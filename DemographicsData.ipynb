{
 "cells": [
  {
   "cell_type": "code",
   "execution_count": null,
   "id": "f9f32421-13c2-4833-9ea7-3ea406a1fbe0",
   "metadata": {
    "tags": []
   },
   "outputs": [],
   "source": [
    "import matplotlib.pyplot as plt\n",
    "import pandas as pd\n",
    "import numpy as np\n",
    "import requests\n",
    "import time\n",
    "import os\n",
    "from scipy.stats import linregress\n",
    "from pprint import pprint\n",
    "\n",
    "#import censusdata"
   ]
  },
  {
   "cell_type": "code",
   "execution_count": null,
   "id": "e4e8f8f8-b777-4a19-a937-d5757f4dd575",
   "metadata": {},
   "outputs": [],
   "source": [
    "data_file = os.path.join(\"resources\", \"Decade Demographics.csv\")\n",
    "demog_df = pd.read_csv(data_file, thousands=',')\n",
    "demog_df.head(10)"
   ]
  },
  {
   "cell_type": "code",
   "execution_count": null,
   "id": "70fb7625-04ee-4e24-b468-38b52a0f8714",
   "metadata": {},
   "outputs": [],
   "source": [
    "#Format data frame, \"or later\" = 2020\n",
    "demog_df = demog_df.dropna()\n",
    "demog_df = demog_df.rename(columns = {\"United States!!Total!!Estimate\": \"United States Total\",\n",
    "                                    \"United States!!Foreign born; Entered 2010 or later!!Estimate\": \"Entered 2010 or later\",\n",
    "                                   \"United States!!Foreign born; Entered 2000 to 2009!!Estimate\": \"Entered 2000 to 2009\",\n",
    "                                   \"United States!!Foreign born; Entered before 2000!!Estimate\": \"Entered before 2000\"})\n",
    "demog_df = demog_df.reset_index(drop = True)\n",
    "\n",
    "demog_df.head(50)"
   ]
  },
  {
   "cell_type": "code",
   "execution_count": null,
   "id": "92631460-1120-46d7-b2f9-0fe2029566b0",
   "metadata": {},
   "outputs": [],
   "source": [
    "#Get total population numbers\n",
    "total_pop = demog_df.iloc[:1]\n",
    "\n",
    "#Format data frame\n",
    "total_pop = total_pop.set_index(\"Label (Grouping)\")\n",
    "total_pop = total_pop.apply(lambda x: x.str.replace(\",\", \"\").astype(int))\n",
    "\n",
    "#Display\n",
    "total_pop"
   ]
  },
  {
   "cell_type": "code",
   "execution_count": null,
   "id": "93b3deee-c7f3-4f43-8fcf-b11a88928320",
   "metadata": {},
   "outputs": [],
   "source": [
    "#Get age information\n",
    "immigrant_age = demog_df.iloc[12:20, :]\n",
    "median_age = demog_df.iloc[21:22]\n",
    "\n",
    "#Set index to age groupings\n",
    "immigrant_age = immigrant_age.set_index(\"Label (Grouping)\")\n",
    "median_age = median_age.set_index(\"Label (Grouping)\")\n",
    "\n",
    "#Turn (X) to 0 (need to replace with NaN later?)\n",
    "immigrant_age = immigrant_age.replace(\"(X)\", \"00\")\n",
    "\n",
    "#Remove Percentage Signs, divide by 100\n",
    "for i in range (0, 4):\n",
    "    \n",
    "    #Remove \"%\"\n",
    "    immigrant_age.iloc[:, i] = list(map(lambda x: x[:-1], immigrant_age.iloc[:, i].values))\n",
    "    \n",
    "    #Convert to float\n",
    "    immigrant_age.iloc[:, i] = list(map(lambda x: float(x), immigrant_age.iloc[:, i].values))\n",
    "    \n",
    "    #Divide by 100\n",
    "    immigrant_age.iloc[:, i] = list(map(lambda x: x / 100, immigrant_age.iloc[:, i].values))\n",
    "\n",
    "#Convert to actual population numbers, round to the nearest whole person\n",
    "imm_age_numbers = round(immigrant_age.multiply(total_pop.iloc[0], axis='columns')).astype(int)\n",
    "\n",
    "imm_age_numbers"
   ]
  },
  {
   "cell_type": "code",
   "execution_count": null,
   "id": "b0f33cc4-56d6-42ba-840b-182a94ad61ce",
   "metadata": {},
   "outputs": [],
   "source": [
    "imm_age_transp = imm_age_numbers.transpose()\n",
    "\n",
    "imm_age_numbers.plot.bar();\n",
    "\n",
    "imm_age_transp.plot.bar();"
   ]
  },
  {
   "cell_type": "code",
   "execution_count": null,
   "id": "c3f71908",
   "metadata": {},
   "outputs": [],
   "source": [
    "#Get gender information\n",
    "immigrant_gender = demog_df.iloc[10:12, :]\n",
    "\n",
    "\n",
    "#Set index to gender groupings\n",
    "immigrant_gender = immigrant_gender.set_index(\"Label (Grouping)\")\n",
    "\n",
    "#Remove Percentage Signs, divide by 100\n",
    "for i in range (0, 4):\n",
    "    \n",
    "    #Remove \"%\"\n",
    "    immigrant_gender.iloc[:, i] = list(map(lambda x: x[:-1], immigrant_gender.iloc[:, i].values))\n",
    "    \n",
    "    #Convert to float\n",
    "    immigrant_gender.iloc[:, i] = list(map(lambda x: float(x), immigrant_gender.iloc[:, i].values))\n",
    "    \n",
    "    #Divide by 100\n",
    "    immigrant_gender.iloc[:, i] = list(map(lambda x: x / 100, immigrant_gender.iloc[:, i].values))\n",
    "\n",
    "#Convert to actual population numbers, round to the nearest whole person\n",
    "imm_gender_numbers = round(immigrant_gender.multiply(total_pop.iloc[0], axis='columns')).astype(int)\n",
    "\n",
    "imm_gender_numbers"
   ]
  },
  {
   "cell_type": "code",
   "execution_count": null,
   "id": "5e3ae0bf",
   "metadata": {},
   "outputs": [],
   "source": [
    "#Dropping the total column\n",
    "imm_gender_numbers = imm_gender_numbers.drop([\"United States Total\"], axis=1)"
   ]
  },
  {
   "cell_type": "code",
   "execution_count": null,
   "id": "9aaaf3da",
   "metadata": {},
   "outputs": [],
   "source": [
    "\n",
    "imm_gender_transp = imm_gender_numbers.transpose()\n",
    "\n",
    "imm_gender_numbers.plot.bar(stacked=True);\n",
    "\n",
    "imm_gender_transp.plot.bar(stacked=True);"
   ]
  },
  {
   "cell_type": "code",
   "execution_count": null,
   "id": "35b865fe",
   "metadata": {},
   "outputs": [],
   "source": [
    "#Get continents information\n",
    "immigrant_continents = demog_df.iloc[4:9, :]\n",
    "\n",
    "\n",
    "#Set index to continents groupings\n",
    "immigrant_continents = immigrant_continents.set_index(\"Label (Grouping)\")\n",
    "\n",
    "\n",
    "#Turn (X) to 0 (need to replace with NaN later?)\n",
    "#immigrant_age = immigrant_age.replace(\"(X)\", \"00\")\n",
    "\n",
    "#Remove Percentage Signs, divide by 100\n",
    "for i in range (0, 4):\n",
    "    \n",
    "    #Remove \"%\"\n",
    "    immigrant_continents.iloc[:, i] = list(map(lambda x: x[:-1], immigrant_continents.iloc[:, i].values))\n",
    "    \n",
    "    #Convert to float\n",
    "    immigrant_continents.iloc[:, i] = list(map(lambda x: float(x), immigrant_continents.iloc[:, i].values))\n",
    "    \n",
    "    #Divide by 100\n",
    "    immigrant_continents.iloc[:, i] = list(map(lambda x: x / 100, immigrant_continents.iloc[:, i].values))\n",
    "\n",
    "#Convert to actual population numbers, round to the nearest whole person\n",
    "imm_continents_numbers = round(immigrant_continents.multiply(total_pop.iloc[0], axis='columns')).astype(int)\n",
    "imm_continents_numbers"
   ]
  },
  {
   "cell_type": "code",
   "execution_count": null,
   "id": "34945ddc",
   "metadata": {},
   "outputs": [],
   "source": [
    "#Dropping the total column\n",
    "imm_continents_numbers = imm_continents_numbers.drop([\"United States Total\"], axis=1)"
   ]
  },
  {
   "cell_type": "code",
   "execution_count": null,
   "id": "101d3211",
   "metadata": {},
   "outputs": [],
   "source": [
    "imm_continents_transp = imm_continents_numbers.transpose()\n",
    "\n",
    "imm_continents_numbers.plot.bar(stacked=True);\n",
    "\n",
    "imm_continents_transp.plot.bar(stacked=True);"
   ]
  },
  {
   "cell_type": "code",
   "execution_count": null,
   "id": "ae10625b",
   "metadata": {},
   "outputs": [],
   "source": [
    "#Get race information\n",
    "immigrant_race = demog_df.iloc[[22,29], :]\n",
    "\n",
    "\n",
    "#Set index to race groupings\n",
    "immigrant_race = immigrant_race.set_index(\"Label (Grouping)\")\n",
    "\n",
    "\n",
    "#Remove Percentage Signs, divide by 100\n",
    "for i in range (0, 4):\n",
    "    \n",
    "    #Remove \"%\"\n",
    "    immigrant_race.iloc[:, i] = list(map(lambda x: x[:-1], immigrant_race.iloc[:, i].values))\n",
    "    \n",
    "    #Convert to float\n",
    "    immigrant_race.iloc[:, i] = list(map(lambda x: float(x), immigrant_race.iloc[:, i].values))\n",
    "    \n",
    "    #Divide by 100\n",
    "    immigrant_race.iloc[:, i] = list(map(lambda x: x / 100, immigrant_race.iloc[:, i].values))\n",
    "\n",
    "#Convert to actual population numbers, round to the nearest whole person\n",
    "imm_race_numbers = round(immigrant_race.multiply(total_pop.iloc[0], axis='columns')).astype(int)\n",
    "imm_race_numbers"
   ]
  },
  {
   "cell_type": "code",
   "execution_count": null,
   "id": "e9033f43",
   "metadata": {},
   "outputs": [],
   "source": [
    "#Dropping the total column\n",
    "imm_race_numbers = imm_race_numbers.drop([\"United States Total\"], axis=1)"
   ]
  },
  {
   "cell_type": "code",
   "execution_count": null,
   "id": "d60c7d8e",
   "metadata": {},
   "outputs": [],
   "source": [
    "imm_race_transp = imm_race_numbers.transpose()\n",
    "\n",
    "imm_race_numbers.plot.bar(stacked=True);\n",
    "\n",
    "imm_race_transp.plot.bar();"
   ]
  },
  {
   "cell_type": "code",
   "execution_count": null,
   "id": "37433050",
   "metadata": {},
   "outputs": [],
   "source": [
    "#Get one race information\n",
    "immigrant_one_race = demog_df.iloc[23:28, :]\n",
    "\n",
    "\n",
    "#Set index to one race groupings\n",
    "immigrant_one_race = immigrant_one_race.set_index(\"Label (Grouping)\")\n",
    "immigrant_one_race\n",
    "\n",
    "\n",
    "\n",
    "#Remove Percentage Signs, divide by 100\n",
    "for i in range (0, 4):\n",
    "    \n",
    "    #Remove \"%\"\n",
    "    immigrant_one_race.iloc[:, i] = list(map(lambda x: x[:-1], immigrant_one_race.iloc[:, i].values))\n",
    "    \n",
    "    #Convert to float\n",
    "    immigrant_one_race.iloc[:, i] = list(map(lambda x: float(x), immigrant_one_race.iloc[:, i].values))\n",
    "    \n",
    "    #Divide by 100\n",
    "    immigrant_one_race.iloc[:, i] = list(map(lambda x: x / 100, immigrant_one_race.iloc[:, i].values))\n",
    "\n",
    "#Convert to actual population numbers, round to the nearest whole person\n",
    "imm_one_race_numbers = round(immigrant_one_race.multiply(total_pop.iloc[0], axis='columns')).astype(int)\n",
    "imm_one_race_numbers"
   ]
  },
  {
   "cell_type": "code",
   "execution_count": null,
   "id": "a5b260da",
   "metadata": {},
   "outputs": [],
   "source": [
    "#Dropping the total column\n",
    "imm_one_race_numbers = imm_one_race_numbers.drop([\"United States Total\"], axis=1)"
   ]
  },
  {
   "cell_type": "code",
   "execution_count": null,
   "id": "220e1629",
   "metadata": {},
   "outputs": [],
   "source": [
    "imm_one_race_transp = imm_one_race_numbers.transpose()\n",
    "\n",
    "imm_one_race_numbers.plot.bar();\n",
    "\n",
    "imm_one_race_transp.plot.bar();"
   ]
  },
  {
   "cell_type": "code",
   "execution_count": null,
   "id": "615556c1",
   "metadata": {},
   "outputs": [],
   "source": [
    "#Get 2+ race information\n",
    "immigrant_more_than_one_race = demog_df.iloc[30:32, :]\n",
    "\n",
    "\n",
    "#Set index to 2+ race groupings\n",
    "immigrant_more_than_one_race = immigrant_more_than_one_race.set_index(\"Label (Grouping)\")\n",
    "\n",
    "\n",
    "#Remove Percentage Signs, divide by 100\n",
    "for i in range (0, 4):\n",
    "    \n",
    "    #Remove \"%\"\n",
    "    immigrant_more_than_one_race.iloc[:, i] = list(map(lambda x: x[:-1], immigrant_more_than_one_race.iloc[:, i].values))\n",
    "    \n",
    "    #Convert to float\n",
    "    immigrant_more_than_one_race.iloc[:, i] = list(map(lambda x: float(x), immigrant_more_than_one_race.iloc[:, i].values))\n",
    "    \n",
    "    #Divide by 100\n",
    "    immigrant_more_than_one_race.iloc[:, i] = list(map(lambda x: x / 100, immigrant_more_than_one_race.iloc[:, i].values))\n",
    "\n",
    "#Convert to actual population numbers, round to the nearest whole person\n",
    "imm_more_than_one_race_numbers = round(immigrant_more_than_one_race.multiply(total_pop.iloc[0], axis='columns')).astype(int)\n",
    "imm_more_than_one_race_numbers"
   ]
  },
  {
   "cell_type": "code",
   "execution_count": null,
   "id": "52f1062a",
   "metadata": {},
   "outputs": [],
   "source": [
    "#Dropping the total column\n",
    "imm_more_than_one_race_numbers = imm_more_than_one_race_numbers.drop([\"United States Total\"], axis=1)"
   ]
  },
  {
   "cell_type": "code",
   "execution_count": null,
   "id": "0ec57fdd",
   "metadata": {},
   "outputs": [],
   "source": [
    "imm_more_than_one_race_transp = imm_more_than_one_race_numbers.transpose()\n",
    "\n",
    "imm_more_than_one_race_numbers.plot.bar();\n",
    "\n",
    "imm_more_than_one_race_transp.plot.bar();"
   ]
  },
  {
   "cell_type": "code",
   "execution_count": null,
   "id": "4f539506",
   "metadata": {},
   "outputs": [],
   "source": [
    "#Get Marital Status information\n",
    "immigrant_marital_status = demog_df.iloc[37:41, :]\n",
    "\n",
    "\n",
    "#Set index to Marital Status groupings\n",
    "immigrant_marital_status = immigrant_marital_status.set_index(\"Label (Grouping)\")\n",
    "\n",
    "#Remove Percentage Signs, divide by 100\n",
    "for i in range (0, 4):\n",
    "    \n",
    "    #Remove \"%\"\n",
    "    immigrant_marital_status.iloc[:, i] = list(map(lambda x: x[:-1], immigrant_marital_status.iloc[:, i].values))\n",
    "    \n",
    "    #Convert to float\n",
    "    immigrant_marital_status.iloc[:, i] = list(map(lambda x: float(x), immigrant_marital_status.iloc[:, i].values))\n",
    "    \n",
    "    #Divide by 100\n",
    "    immigrant_marital_status.iloc[:, i] = list(map(lambda x: x / 100, immigrant_marital_status.iloc[:, i].values))\n",
    "\n",
    "\n",
    "\n",
    "#Get total marital status number\n",
    "total_marital_pop = demog_df.loc[[36],:]\n",
    "\n",
    "#Format data frame\n",
    "total_marital_pop = total_marital_pop.set_index(\"Label (Grouping)\")\n",
    "total_marital_pop = total_marital_pop.apply(lambda x: x.str.replace(\",\", \"\").astype(int))\n",
    "\n",
    "\n",
    "\n",
    "#Convert to actual population numbers, round to the nearest whole person\n",
    "imm_marital_status_numbers = round(immigrant_marital_status.multiply(total_marital_pop.iloc[0], axis='columns')).astype(int)\n",
    "imm_marital_status_numbers"
   ]
  },
  {
   "cell_type": "code",
   "execution_count": null,
   "id": "d1a1aa6f",
   "metadata": {},
   "outputs": [],
   "source": [
    "#Dropping the total column\n",
    "imm_marital_status_numbers = imm_marital_status_numbers.drop([\"United States Total\"], axis=1)"
   ]
  },
  {
   "cell_type": "code",
   "execution_count": null,
   "id": "4091a8ed",
   "metadata": {},
   "outputs": [],
   "source": [
    "imm_marital_status_transp = imm_marital_status_numbers.transpose()\n",
    "\n",
    "imm_marital_status_numbers.plot.bar(stacked = True);\n",
    "\n",
    "imm_marital_status_transp.plot.bar(stacked = True);"
   ]
  },
  {
   "cell_type": "code",
   "execution_count": null,
   "id": "cd3492ef",
   "metadata": {},
   "outputs": [],
   "source": [
    "#Get total population numbers for education\n",
    "total_edu_pop = demog_df.loc[[41,46],:]\n",
    "\n",
    "#Format data frame\n",
    "total_edu_pop = total_edu_pop.set_index(\"Label (Grouping)\")\n",
    "total_edu_pop = total_edu_pop.apply(lambda x: x.str.replace(\",\", \"\").astype(int))\n",
    "\n",
    "#Display\n",
    "total_edu_pop"
   ]
  },
  {
   "cell_type": "code",
   "execution_count": null,
   "id": "c1adc808",
   "metadata": {},
   "outputs": [],
   "source": [
    "total_edu_pop.sum()-total_pop.iloc[0]"
   ]
  },
  {
   "cell_type": "code",
   "execution_count": null,
   "id": "22e40966",
   "metadata": {},
   "outputs": [],
   "source": [
    "#Get age 3+ in school information\n",
    "immigrant_in_school = demog_df.iloc[42:46, :]\n",
    "\n",
    "\n",
    "#Set index to 3+ in school groupings\n",
    "immigrant_in_school = immigrant_in_school.set_index(\"Label (Grouping)\")\n",
    "immigrant_in_school.head()\n",
    "\n",
    "#Remove Percentage Signs, divide by 100\n",
    "for i in range (0, 4):\n",
    "    \n",
    "    #Remove \"%\"\n",
    "    immigrant_in_school.iloc[:, i] = list(map(lambda x: x[:-1], immigrant_in_school.iloc[:, i].values))\n",
    "    \n",
    "    #Convert to float\n",
    "    immigrant_in_school.iloc[:, i] = list(map(lambda x: float(x), immigrant_in_school.iloc[:, i].values))\n",
    "    \n",
    "    #Divide by 100\n",
    "    immigrant_in_school.iloc[:, i] = list(map(lambda x: x / 100, immigrant_in_school.iloc[:, i].values))\n",
    "\n",
    "#Convert to actual population numbers, round to the nearest whole person\n",
    "imm_in_school_numbers = round(immigrant_in_school.multiply(total_edu_pop.iloc[0], axis='columns')).astype(int)\n",
    "imm_in_school_numbers"
   ]
  },
  {
   "cell_type": "code",
   "execution_count": null,
   "id": "6fe40374",
   "metadata": {},
   "outputs": [],
   "source": [
    "#Dropping the total column\n",
    "imm_in_school_numbers = imm_in_school_numbers.drop([\"United States Total\"], axis=1)"
   ]
  },
  {
   "cell_type": "code",
   "execution_count": null,
   "id": "5a621e15",
   "metadata": {},
   "outputs": [],
   "source": [
    "imm_in_school_transp = imm_in_school_numbers.transpose()\n",
    "\n",
    "imm_in_school_numbers.plot.bar(stacked = True);\n",
    "\n",
    "imm_in_school_transp.plot.bar(stacked = True);"
   ]
  },
  {
   "cell_type": "code",
   "execution_count": null,
   "id": "6718c38e",
   "metadata": {},
   "outputs": [],
   "source": [
    "#Get 25+ education information\n",
    "immigrant_edu_plus25 = demog_df.iloc[47:50, :]\n",
    "\n",
    "\n",
    "#Set index to 25+ education groupings\n",
    "immigrant_edu_plus25 = immigrant_edu_plus25.set_index(\"Label (Grouping)\")\n",
    "\n",
    "\n",
    "#Remove Percentage Signs, divide by 100\n",
    "for i in range (0, 4):\n",
    "    \n",
    "    #Remove \"%\"\n",
    "    immigrant_edu_plus25.iloc[:, i] = list(map(lambda x: x[:-1], immigrant_edu_plus25.iloc[:, i].values))\n",
    "    \n",
    "    #Convert to float\n",
    "    immigrant_edu_plus25.iloc[:, i] = list(map(lambda x: float(x), immigrant_edu_plus25.iloc[:, i].values))\n",
    "    \n",
    "    #Divide by 100\n",
    "    immigrant_edu_plus25.iloc[:, i] = list(map(lambda x: x / 100, immigrant_edu_plus25.iloc[:, i].values))\n",
    "\n",
    "#Convert to actual population numbers, round to the nearest whole person\n",
    "imm_edu_plus25_numbers = round(immigrant_edu_plus25.multiply(total_edu_pop.iloc[0], axis='columns')).astype(int)\n",
    "imm_edu_plus25_numbers"
   ]
  },
  {
   "cell_type": "code",
   "execution_count": null,
   "id": "b4d49040",
   "metadata": {},
   "outputs": [],
   "source": [
    "#Dropping the total column\n",
    "imm_edu_plus25_numbers = imm_edu_plus25_numbers.drop([\"United States Total\"], axis=1)"
   ]
  },
  {
   "cell_type": "code",
   "execution_count": null,
   "id": "80eb5e3b",
   "metadata": {},
   "outputs": [],
   "source": [
    "imm_edu_plus25_transp = imm_edu_plus25_numbers.transpose()\n",
    "\n",
    "imm_edu_plus25_numbers.plot.bar(stacked = True);\n",
    "\n",
    "imm_edu_plus25_transp.plot.bar(stacked = True);"
   ]
  },
  {
   "cell_type": "code",
   "execution_count": null,
   "id": "5a4cf6da",
   "metadata": {},
   "outputs": [],
   "source": [
    "imm_marital_status_numbers"
   ]
  },
  {
   "cell_type": "code",
   "execution_count": null,
   "id": "7e35461a",
   "metadata": {},
   "outputs": [],
   "source": [
    "imm_gender_numbers"
   ]
  },
  {
   "cell_type": "code",
   "execution_count": null,
   "id": "48a8cf98",
   "metadata": {},
   "outputs": [],
   "source": []
  },
  {
   "cell_type": "code",
   "execution_count": null,
   "id": "fa5a630f",
   "metadata": {},
   "outputs": [],
   "source": []
  }
 ],
 "metadata": {
  "kernelspec": {
   "display_name": "Python 3",
   "language": "python",
   "name": "python3"
  },
  "language_info": {
   "codemirror_mode": {
    "name": "ipython",
    "version": 3
   },
   "file_extension": ".py",
   "mimetype": "text/x-python",
   "name": "python",
   "nbconvert_exporter": "python",
   "pygments_lexer": "ipython3",
   "version": "3.9.7"
  }
 },
 "nbformat": 4,
 "nbformat_minor": 5
}

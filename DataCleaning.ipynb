{
 "cells": [
  {
   "cell_type": "code",
   "execution_count": 1,
   "metadata": {},
   "outputs": [],
   "source": [
    "import matplotlib.pyplot as plt\n",
    "import pandas as pd\n",
    "import numpy as np\n",
    "import requests\n",
    "import time\n",
    "import os\n",
    "from scipy.stats import linregress\n",
    "from pprint import pprint"
   ]
  },
  {
   "cell_type": "markdown",
   "metadata": {},
   "source": [
    "## Working with Decade Demographics File"
   ]
  },
  {
   "cell_type": "code",
   "execution_count": 2,
   "metadata": {},
   "outputs": [],
   "source": [
    "data_file = os.path.join(\"resources\", \"Decade Demographics.csv\")\n",
    "demog_df = pd.read_csv(data_file, thousands=',')"
   ]
  },
  {
   "cell_type": "code",
   "execution_count": 3,
   "metadata": {},
   "outputs": [],
   "source": [
    "#Format data frame, \"or later\" = 2020\n",
    "demog_df = demog_df.dropna()\n",
    "demog_df = demog_df.rename(columns = {\"United States!!Total!!Estimate\": \"United States Total\",\n",
    "                                    \"United States!!Foreign born; Entered 2010 or later!!Estimate\": \"2010 or later\",\n",
    "                                   \"United States!!Foreign born; Entered 2000 to 2009!!Estimate\": \"2000 to 2009\",\n",
    "                                   \"United States!!Foreign born; Entered before 2000!!Estimate\": \"Before 2000\"})\n",
    "demog_df = demog_df.reset_index(drop = True)"
   ]
  },
  {
   "cell_type": "code",
   "execution_count": 4,
   "metadata": {},
   "outputs": [],
   "source": [
    "#Dropping the total column from each DataFrame Created\n",
    "demog_df = demog_df.drop([\"United States Total\"], axis=1)"
   ]
  },
  {
   "cell_type": "code",
   "execution_count": 5,
   "metadata": {},
   "outputs": [],
   "source": [
    "#Get total population numbers\n",
    "total_pop = demog_df.iloc[:1]\n",
    "\n",
    "#Format data frame\n",
    "total_pop = total_pop.set_index(\"Label (Grouping)\")\n",
    "total_pop = total_pop.apply(lambda x: x.str.replace(\",\", \"\").astype(int))\n",
    "\n",
    "\n",
    "#Get total population numbers for education\n",
    "total_edu_pop = demog_df.loc[[41,46],:]\n",
    "\n",
    "#Format data frame\n",
    "total_edu_pop = total_edu_pop.set_index(\"Label (Grouping)\")\n",
    "total_edu_pop = total_edu_pop.apply(lambda x: x.str.replace(\",\", \"\").astype(int))\n",
    "\n",
    "\n",
    "#Get total marital status number\n",
    "total_marital_pop = demog_df.loc[[36],:]\n",
    "\n",
    "#Format data frame\n",
    "total_marital_pop = total_marital_pop.set_index(\"Label (Grouping)\")\n",
    "total_marital_pop = total_marital_pop.apply(lambda x: x.str.replace(\",\", \"\").astype(int))\n",
    "\n",
    "#Get total employed number\n",
    "total_jobstatus_pop = demog_df.loc[[56],:]\n",
    "\n",
    "#Format data frame\n",
    "total_jobstatus_pop = total_jobstatus_pop.set_index(\"Label (Grouping)\")\n",
    "total_jobstatus_pop = total_jobstatus_pop.apply(lambda x: x.str.replace(\",\", \"\").astype(int))"
   ]
  },
  {
   "cell_type": "code",
   "execution_count": 6,
   "metadata": {},
   "outputs": [],
   "source": [
    "#Get age information\n",
    "immigrant_age = demog_df.iloc[12:21, :]\n",
    "median_age = demog_df.iloc[21:22]\n",
    "\n",
    "#Get gender information\n",
    "immigrant_gender = demog_df.iloc[10:12, :]\n",
    "\n",
    "#Get continents information\n",
    "immigrant_continents = demog_df.iloc[4:10, :]\n",
    "\n",
    "#Get race information\n",
    "immigrant_race = demog_df.iloc[[22,29], :]\n",
    "\n",
    "#Get one race information\n",
    "immigrant_one_race = demog_df.iloc[23:29, :]\n",
    "\n",
    "#Get 2+ race information\n",
    "immigrant_more_than_one_race = demog_df.iloc[30:32, :]\n",
    "\n",
    "#Get Marital Status information\n",
    "immigrant_marital_status = demog_df.iloc[37:41, :]\n",
    "\n",
    "#Get age 3+ in school information\n",
    "immigrant_in_school = demog_df.iloc[42:46, :]\n",
    "\n",
    "#Get 25+ education information\n",
    "immigrant_edu_plus25 = demog_df.iloc[47:52, :]\n",
    "\n",
    "#Get job status information\n",
    "immigrant_job_status = demog_df.iloc[57:64, :]"
   ]
  },
  {
   "cell_type": "code",
   "execution_count": 7,
   "metadata": {},
   "outputs": [],
   "source": [
    "#Set index for all DataFrames to Label groupings\n",
    "immigrant_age = immigrant_age.set_index(\"Label (Grouping)\")\n",
    "median_age = median_age.set_index(\"Label (Grouping)\")\n",
    "immigrant_gender = immigrant_gender.set_index(\"Label (Grouping)\")\n",
    "immigrant_continents = immigrant_continents.set_index(\"Label (Grouping)\")\n",
    "immigrant_race = immigrant_race.set_index(\"Label (Grouping)\")\n",
    "immigrant_one_race = immigrant_one_race.set_index(\"Label (Grouping)\")\n",
    "immigrant_more_than_one_race = immigrant_more_than_one_race.set_index(\"Label (Grouping)\")\n",
    "immigrant_marital_status = immigrant_marital_status.set_index(\"Label (Grouping)\")\n",
    "immigrant_in_school = immigrant_in_school.set_index(\"Label (Grouping)\")\n",
    "immigrant_edu_plus25 = immigrant_edu_plus25.set_index(\"Label (Grouping)\")\n",
    "immigrant_job_status = immigrant_job_status.set_index(\"Label (Grouping)\")"
   ]
  },
  {
   "cell_type": "code",
   "execution_count": 8,
   "metadata": {},
   "outputs": [],
   "source": [
    "#Turn (X) to 0 in the immigrant_age DataFrame\n",
    "immigrant_age = immigrant_age.replace(\"(X)\", \"00\")"
   ]
  },
  {
   "cell_type": "code",
   "execution_count": 9,
   "metadata": {},
   "outputs": [],
   "source": [
    "#Remove Percentage Signs, converting to float, and divide by 100 for each DataFrame created\n",
    "for i in range (0, 3):\n",
    "    \n",
    "    #Remove \"%\"\n",
    "    immigrant_age.iloc[:, i] = list(map(lambda x: x[:-1], immigrant_age.iloc[:, i].values))\n",
    "    immigrant_gender.iloc[:, i] = list(map(lambda x: x[:-1], immigrant_gender.iloc[:, i].values))\n",
    "    immigrant_continents.iloc[:, i] = list(map(lambda x: x[:-1], immigrant_continents.iloc[:, i].values))\n",
    "    immigrant_race.iloc[:, i] = list(map(lambda x: x[:-1], immigrant_race.iloc[:, i].values))\n",
    "    immigrant_one_race.iloc[:, i] = list(map(lambda x: x[:-1], immigrant_one_race.iloc[:, i].values))\n",
    "    immigrant_more_than_one_race.iloc[:, i] = list(map(lambda x: x[:-1], immigrant_more_than_one_race.iloc[:, i].values))\n",
    "    immigrant_marital_status.iloc[:, i] = list(map(lambda x: x[:-1], immigrant_marital_status.iloc[:, i].values))\n",
    "    immigrant_in_school.iloc[:, i] = list(map(lambda x: x[:-1], immigrant_in_school.iloc[:, i].values))\n",
    "    immigrant_edu_plus25.iloc[:, i] = list(map(lambda x: x[:-1], immigrant_edu_plus25.iloc[:, i].values))\n",
    "    immigrant_job_status.iloc[:, i] = list(map(lambda x: x[:-1], immigrant_job_status.iloc[:, i].values))\n",
    "    \n",
    "    #Convert to float\n",
    "    immigrant_age.iloc[:, i] = list(map(lambda x: float(x), immigrant_age.iloc[:, i].values))\n",
    "    immigrant_gender.iloc[:, i] = list(map(lambda x: float(x), immigrant_gender.iloc[:, i].values))\n",
    "    immigrant_continents.iloc[:, i] = list(map(lambda x: float(x), immigrant_continents.iloc[:, i].values))\n",
    "    immigrant_race.iloc[:, i] = list(map(lambda x: float(x), immigrant_race.iloc[:, i].values))\n",
    "    immigrant_one_race.iloc[:, i] = list(map(lambda x: float(x), immigrant_one_race.iloc[:, i].values))\n",
    "    immigrant_more_than_one_race.iloc[:, i] = list(map(lambda x: float(x), immigrant_more_than_one_race.iloc[:, i].values))\n",
    "    immigrant_marital_status.iloc[:, i] = list(map(lambda x: float(x), immigrant_marital_status.iloc[:, i].values))\n",
    "    immigrant_in_school.iloc[:, i] = list(map(lambda x: float(x), immigrant_in_school.iloc[:, i].values))\n",
    "    immigrant_edu_plus25.iloc[:, i] = list(map(lambda x: float(x), immigrant_edu_plus25.iloc[:, i].values))\n",
    "    immigrant_job_status.iloc[:, i] = list(map(lambda x: float(x), immigrant_job_status.iloc[:, i].values))    \n",
    "    \n",
    "    #Divide by 100\n",
    "    immigrant_age.iloc[:, i] = list(map(lambda x: x / 100, immigrant_age.iloc[:, i].values))\n",
    "    immigrant_gender.iloc[:, i] = list(map(lambda x: x / 100, immigrant_gender.iloc[:, i].values))\n",
    "    immigrant_continents.iloc[:, i] = list(map(lambda x: x / 100, immigrant_continents.iloc[:, i].values))\n",
    "    immigrant_race.iloc[:, i] = list(map(lambda x: x / 100, immigrant_race.iloc[:, i].values))\n",
    "    immigrant_one_race.iloc[:, i] = list(map(lambda x: x / 100, immigrant_one_race.iloc[:, i].values))\n",
    "    immigrant_more_than_one_race.iloc[:, i] = list(map(lambda x: x / 100, immigrant_more_than_one_race.iloc[:, i].values))\n",
    "    immigrant_marital_status.iloc[:, i] = list(map(lambda x: x / 100, immigrant_marital_status.iloc[:, i].values))\n",
    "    immigrant_in_school.iloc[:, i] = list(map(lambda x: x / 100, immigrant_in_school.iloc[:, i].values))\n",
    "    immigrant_edu_plus25.iloc[:, i] = list(map(lambda x: x / 100, immigrant_edu_plus25.iloc[:, i].values))\n",
    "    immigrant_job_status.iloc[:, i] = list(map(lambda x: x / 100, immigrant_job_status.iloc[:, i].values))    \n"
   ]
  },
  {
   "cell_type": "code",
   "execution_count": 10,
   "metadata": {},
   "outputs": [],
   "source": [
    "# Convert to actual population numbers, round to the nearest whole person\n",
    "imm_age_numbers = round(immigrant_age.multiply(total_pop.iloc[0], axis='columns')).astype(int)\n",
    "imm_gender_numbers = round(immigrant_gender.multiply(total_pop.iloc[0], axis='columns')).astype(int)\n",
    "imm_continents_numbers = round(immigrant_continents.multiply(total_pop.iloc[0], axis='columns')).astype(int)\n",
    "imm_race_numbers = round(immigrant_race.multiply(total_pop.iloc[0], axis='columns')).astype(int)\n",
    "imm_one_race_numbers = round(immigrant_one_race.multiply(total_pop.iloc[0], axis='columns')).astype(int)\n",
    "imm_more_than_one_race_numbers = round(immigrant_more_than_one_race.multiply(total_pop.iloc[0], axis='columns')).astype(int)\n",
    "imm_marital_status_numbers = round(immigrant_marital_status.multiply(total_marital_pop.iloc[0], axis='columns')).astype(int)\n",
    "imm_in_school_numbers = round(immigrant_in_school.multiply(total_edu_pop.iloc[0], axis='columns')).astype(int)\n",
    "imm_edu_plus25_numbers = round(immigrant_edu_plus25.multiply(total_edu_pop.iloc[0], axis='columns')).astype(int)\n",
    "immigrant_job_status = round(immigrant_job_status.multiply(total_jobstatus_pop.iloc[0], axis='columns')).astype(int)\n"
   ]
  },
  {
   "cell_type": "code",
   "execution_count": 11,
   "metadata": {},
   "outputs": [],
   "source": [
    "# Removing the spaces before each index\n",
    "imm_age_numbers.index = imm_age_numbers.index.str.strip()\n",
    "imm_gender_numbers.index = imm_gender_numbers.index.str.strip()\n",
    "imm_continents_numbers.index = imm_continents_numbers.index.str.strip()\n",
    "imm_race_numbers.index = imm_race_numbers.index.str.strip()\n",
    "imm_one_race_numbers.index = imm_one_race_numbers.index.str.strip()\n",
    "imm_more_than_one_race_numbers.index = imm_more_than_one_race_numbers.index.str.strip()\n",
    "imm_marital_status_numbers.index = imm_marital_status_numbers.index.str.strip()\n",
    "imm_in_school_numbers.index = imm_in_school_numbers.index.str.strip()\n",
    "imm_edu_plus25_numbers.index = imm_edu_plus25_numbers.index.str.strip()\n",
    "immigrant_job_status.index = immigrant_job_status.index.str.strip()"
   ]
  },
  {
   "cell_type": "code",
   "execution_count": 12,
   "metadata": {},
   "outputs": [],
   "source": [
    "# Exporting DataFrames to CSV's\n",
    "path = os.path.join(\"Outputs\", \"Age.csv\")\n",
    "imm_age_numbers.to_csv(path, header = True, index = True)\n",
    "\n",
    "path = os.path.join(\"Outputs\", \"Gender.csv\")\n",
    "imm_gender_numbers.to_csv(path, header = True, index = True)\n",
    "\n",
    "path = os.path.join(\"Outputs\", \"Continents.csv\")\n",
    "imm_continents_numbers.to_csv(path, header = True, index = True)\n",
    "\n",
    "path = os.path.join(\"Outputs\", \"Race.csv\")\n",
    "imm_race_numbers.to_csv(path, header = True, index = True)\n",
    "\n",
    "path = os.path.join(\"Outputs\", \"One Race.csv\")\n",
    "imm_one_race_numbers.to_csv(path, header = True, index = True)\n",
    "\n",
    "path = os.path.join(\"Outputs\", \"More Than One Race.csv\")\n",
    "imm_more_than_one_race_numbers.to_csv(path, header = True, index = True)\n",
    "\n",
    "path = os.path.join(\"Outputs\", \"Marital Status.csv\")\n",
    "imm_marital_status_numbers.to_csv(path, header = True, index = True)\n",
    "\n",
    "path = os.path.join(\"Outputs\", \"In School.csv\")\n",
    "imm_in_school_numbers.to_csv(path, header = True, index = True)\n",
    "\n",
    "path = os.path.join(\"Outputs\", \"Education 25+.csv\")\n",
    "imm_edu_plus25_numbers.to_csv(path, header = True, index = True)\n",
    "\n",
    "path = os.path.join(\"Outputs\", \"Job Status.csv\")\n",
    "immigrant_job_status.to_csv(path, header = True, index = True)"
   ]
  },
  {
   "cell_type": "markdown",
   "metadata": {},
   "source": [
    "## Working with Annual Perm Resident 1820-2019 file"
   ]
  },
  {
   "cell_type": "code",
   "execution_count": 13,
   "metadata": {},
   "outputs": [],
   "source": [
    "#Read in data frame (from https://www.migrationpolicy.org/programs/data-hub/us-immigration-trends#history)\n",
    "#Legal Immigration to the United States, 1820-2019\n",
    "\n",
    "data_file2 = os.path.join(\"resources\", \"Annual Perm Resident 1820-2019.csv\")\n",
    "ann_perm_res = pd.read_csv(data_file2, thousands=',')\n",
    "\n",
    "#Format data frame\n",
    "ann_perm_res = ann_perm_res.drop(columns = ann_perm_res.columns[0])\n",
    "ann_perm_res = ann_perm_res.set_index(\"Year\")\n",
    "ann_perm_res[\"Number of Legal Permanent Residents\"] = ann_perm_res[\"Number of Legal Permanent Residents\"].div(1000000) #\n",
    "ann_perm_res = ann_perm_res.rename(columns={\"Number of Legal Permanent Residents\": \"Number of Legal Permanent Residents (millions)\"})\n",
    "\n",
    "path = os.path.join(\"Outputs\", \"Annual Perm Res.csv\")\n",
    "ann_perm_res.to_csv(path, header = True, index = True)"
   ]
  },
  {
   "cell_type": "markdown",
   "metadata": {},
   "source": [
    "## Working with Immigrant Location Files"
   ]
  },
  {
   "cell_type": "code",
   "execution_count": 14,
   "metadata": {},
   "outputs": [],
   "source": [
    "file_path = os.path.join(\"resources\", \"2010-2019.csv\")\n",
    "imm_loc_2019_df = pd.read_csv(file_path, thousands=',')\n",
    "\n",
    "file_path1 = os.path.join(\"resources\", \"2011-2020.csv\")\n",
    "imm_loc_2020_df = pd.read_csv(file_path1, thousands=',')"
   ]
  },
  {
   "cell_type": "code",
   "execution_count": 15,
   "metadata": {},
   "outputs": [],
   "source": [
    "# Removing all dots from the first cloumn\n",
    "imm_loc_2019_df['State or territory of residence'] = imm_loc_2019_df['State or territory of residence'].replace('\\.','', regex=True)\n",
    "# Setting first column as index\n",
    "imm_loc_2019_df = imm_loc_2019_df.set_index(\"State or territory of residence\")\n",
    "imm_loc_2020_df = imm_loc_2020_df.set_index(\"State or territory of residence\")\n",
    "# Removing the spaces before each index\n",
    "imm_loc_2019_df.index = imm_loc_2019_df.index.str.strip()\n",
    "imm_loc_2020_df.index = imm_loc_2020_df.index.str.strip()\n",
    "# Removing commas form all the numbers\n",
    "imm_loc_2019_df = imm_loc_2019_df.replace(',','', regex=True)\n",
    "# Removing dashes form all the columns\n",
    "imm_loc_2019_df = imm_loc_2019_df.replace('-','0', regex=True)\n",
    "imm_loc_2020_df = imm_loc_2020_df.replace('-','0', regex=True)\n",
    "# Deleting the Total row\n",
    "imm_loc_2019_df = imm_loc_2019_df.drop(index = 'Total')\n",
    "imm_loc_2020_df = imm_loc_2020_df.drop(index = 'Total')\n",
    "# Converting the non-int rows to int\n",
    "imm_loc_2019_df.iloc[0: , 0:4] = imm_loc_2019_df.iloc[0: , 0:4].astype(int)\n",
    "imm_loc_2020_df.iloc[0: , 0:3] = imm_loc_2020_df.iloc[0: , 0:3].astype(int)\n",
    "\n",
    "# Inserting the 2020 data into the 2019 DataFrame\n",
    "imm_loc_2019_df[\"2020\"] = imm_loc_2020_df[\"2020\"]\n",
    "\n",
    "# Calculating the sum of each row\n",
    "imm_loc_2019_df['From 2010 to 2020'] = imm_loc_2019_df.sum(axis=1)"
   ]
  },
  {
   "cell_type": "code",
   "execution_count": 16,
   "metadata": {},
   "outputs": [],
   "source": [
    "# Exporting DataFrames to CSV's\n",
    "path = os.path.join(\"Outputs\", \"Immigrant Location 2010-2020.csv\")\n",
    "imm_loc_2019_df.to_csv(path, header = True, index = True)"
   ]
  },
  {
   "cell_type": "markdown",
   "metadata": {},
   "source": [
    "## Working with Lawful Permanent Status File"
   ]
  },
  {
   "cell_type": "code",
   "execution_count": 17,
   "metadata": {},
   "outputs": [],
   "source": [
    "file = os.path.join(\"resources/Lawful Permanent Status.csv\")\n",
    "table = pd.read_csv(file, thousands=',')\n",
    "table = table.replace(',',\"\", regex=True)\n",
    "table = table.iloc[1: , 1: ]\n",
    "table = table.drop([81, 82, 83])\n",
    "table.fillna(0)\n",
    "table = table.replace('-',0)\n",
    "table.tail(15)\n",
    "\n",
    "table.set_index('Type and class of admission', inplace=True)\n",
    "\n",
    "for col in table.columns:\n",
    "    table[col] = table[col].astype(float)"
   ]
  },
  {
   "cell_type": "code",
   "execution_count": 18,
   "metadata": {},
   "outputs": [],
   "source": [
    "# Splitting original file into 4 different DataFrames\n",
    "adj_fam_sponsor = table.iloc[33:37, :]\n",
    "new_fam_sponsor = table.iloc[60:64, :]\n",
    "adj_job_sponsor = table.iloc[38:43, :]\n",
    "new_job_sponsor = table.iloc[65:70, :]\n"
   ]
  },
  {
   "cell_type": "code",
   "execution_count": 19,
   "metadata": {},
   "outputs": [],
   "source": [
    "#Fam-related (df1) and career-related (df2) addmision data from ADJ and NEW subtypes respectively\n",
    "\n",
    "diff_df_change = pd.DataFrame()\n",
    "for start, end in zip(table.columns[1:10], table.columns[2:]):\n",
    "     diff_df_change[f\"{start} to {end}\"] = table[start].astype(float).sub(table[end].astype(float), axis = 0)\n",
    "\n",
    "df1 = pd.concat([diff_df_change.iloc[33:37, :], diff_df_change.iloc[60:64, :]]);\n",
    "df2 = pd.concat([diff_df_change.iloc[38:43, :], diff_df_change.iloc[65:70, :]]);\n",
    "\n",
    "#Total of fam-realted of addmission\n",
    "df3 = table.iloc[6:10, :]\n",
    "\n",
    "#Total of career-realted of addmission\n",
    "df4 = table.iloc[11:16, :]\n",
    "\n",
    "#diff_df = pd.DataFrame()\n",
    "df5 = table.iloc[17:26, :]\n"
   ]
  },
  {
   "cell_type": "code",
   "execution_count": 20,
   "metadata": {},
   "outputs": [],
   "source": [
    "# Exporting DataFrames to CSV's\n",
    "path = os.path.join(\"Outputs\", \"Fam Related.csv\")\n",
    "df1.to_csv(path, header = True, index = True)\n",
    "\n",
    "path = os.path.join(\"Outputs\", \"Career Related.csv\")\n",
    "df2.to_csv(path, header = True, index = True)\n",
    "\n",
    "path = os.path.join(\"Outputs\", \"Total Fam Related.csv\")\n",
    "df3.to_csv(path, header = True, index = True)\n",
    "\n",
    "path = os.path.join(\"Outputs\", \"Total Career Related.csv\")\n",
    "df4.to_csv(path, header = True, index = True)\n",
    "\n",
    "path = os.path.join(\"Outputs\", \"Difference.csv\")\n",
    "df5.to_csv(path, header = True, index = True)"
   ]
  }
 ],
 "metadata": {
  "interpreter": {
   "hash": "fd2a78458f1ec51d8ce2a700d1408a9cd48e1b8b59a16dfc0586b3ca672806db"
  },
  "kernelspec": {
   "display_name": "Python 3 (ipykernel)",
   "language": "python",
   "name": "python3"
  },
  "language_info": {
   "codemirror_mode": {
    "name": "ipython",
    "version": 3
   },
   "file_extension": ".py",
   "mimetype": "text/x-python",
   "name": "python",
   "nbconvert_exporter": "python",
   "pygments_lexer": "ipython3",
   "version": "3.9.7"
  }
 },
 "nbformat": 4,
 "nbformat_minor": 4
}
